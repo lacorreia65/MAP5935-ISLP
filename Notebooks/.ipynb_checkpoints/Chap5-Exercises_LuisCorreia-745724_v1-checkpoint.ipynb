{
 "cells": [
  {
   "cell_type": "markdown",
   "id": "129eb517-ba4d-40af-af57-7c1ef7fcdb32",
   "metadata": {},
   "source": [
    "# MAP5935 - Statistical Learning (Chapter 5 - Resampling Methods)"
   ]
  },
  {
   "cell_type": "markdown",
   "id": "ed03b872-866a-49fb-9ed2-ee78a8b868db",
   "metadata": {},
   "source": [
    "**Prof. Christian Jäkel**"
   ]
  },
  {
   "cell_type": "markdown",
   "id": "b4017957-4852-4b1a-bb41-68a7c15e2eea",
   "metadata": {},
   "source": [
    "https://www.statlearning.com/"
   ]
  },
  {
   "cell_type": "code",
   "execution_count": 1,
   "id": "c423aba1-f997-447d-9bf2-ae565273983e",
   "metadata": {},
   "outputs": [],
   "source": [
    "import numpy as np\n",
    "import pandas as pd\n",
    "import matplotlib.pyplot as plt\n",
    "from matplotlib.pyplot import subplots\n",
    "import statsmodels.api as sm"
   ]
  },
  {
   "cell_type": "markdown",
   "id": "7f5ccd6b-cdb7-40a1-911c-53051730c3fc",
   "metadata": {},
   "source": [
    "## *Conceptual Exercises*"
   ]
  },
  {
   "cell_type": "markdown",
   "id": "55c21488-26e0-4c3a-9bd3-14671d1737ef",
   "metadata": {},
   "source": [
    "### (1) Using basic statistical properties of the variance, as well as single-variable calculus, derive (5.6). In other words, prove that $\\alpha$ given by (5.6) does indeed minimize $Var(αX + (1 − α)Y)$."
   ]
  },
  {
   "cell_type": "markdown",
   "id": "a57dca83-cf31-4c45-b2ae-76dd05daf58e",
   "metadata": {},
   "source": [
    "**Solution**: We want to show that the choice of $\\alpha$ given in (5.6) minimizes\n",
    "\n",
    "$$\n",
    "\\operatorname{Var}\\big(\\alpha X + (1-\\alpha)Y\\big).\n",
    "$$\n",
    "\n",
    "Using the properties of variance and covariance:\n",
    "\n",
    "$$\n",
    "\\begin{aligned}\n",
    "f(\\alpha)\n",
    "&= \\operatorname{Var}\\!\\left(\\alpha X + (1-\\alpha)Y\\right) \\\\\n",
    "&= \\alpha^2 \\operatorname{Var}(X) + (1-\\alpha)^2 \\operatorname{Var}(X) + 2\\alpha(1-\\alpha)\\operatorname{Cov}(X,Y)\\\\\n",
    "&= \\alpha^2 \\sigma_X^2 + (1-\\alpha)^2 \\sigma_Y^2 + 2\\alpha(1-\\alpha)\\sigma_{XY},\n",
    "\\end{aligned}\n",
    "$$\n",
    "\n",
    "where\n",
    "$$\n",
    "\\sigma_X^2 = \\operatorname{Var}(X), \\quad\n",
    "\\sigma_Y^2 = \\operatorname{Var}(Y), \\quad\n",
    "\\sigma_{XY} = \\operatorname{Cov}(X,Y).\n",
    "$$\n",
    "Now minimizing $f(\\alpha)$, corresponds to set to $0$ the first derivative in relate to $\\alpha$:\n",
    "$$\n",
    "\\begin{aligned}\n",
    "f'(\\alpha)\n",
    "&= 2\\alpha\\sigma_X^2 - 2(1-\\alpha)\\sigma_Y^2 + 2(1-2\\alpha)\\sigma_{XY}.\n",
    "\\end{aligned}\n",
    "$$\n",
    "\n",
    "Setting $f'(\\alpha) = 0$:\n",
    "\n",
    "$$\n",
    "\\alpha(\\sigma_X^2 + \\sigma_Y^2 - 2\\sigma_{XY}) + (\\sigma_{XY} - \\sigma_Y^2) = 0.\n",
    "$$\n",
    "\n",
    "$$\n",
    "\\boxed{\\alpha = \\frac{\\sigma_Y^2 - \\sigma_{XY}}{\\sigma_X^2 + \\sigma_Y^2 - 2\\sigma_{XY}}}\n",
    "$$\n",
    "\n",
    "which is exactly equation (5.6)."
   ]
  },
  {
   "cell_type": "markdown",
   "id": "55e330d5-54b4-4a17-9896-eb3f98c8ea39",
   "metadata": {},
   "source": [
    "## *Applied Exercises*"
   ]
  },
  {
   "cell_type": "markdown",
   "id": "2b45c67e-646b-497a-a56e-04a6b2025b81",
   "metadata": {},
   "source": [
    "### (5) In Chapter 4, we used logistic regression to predict the probability of default using income and balance on the `Default` data set. We will now estimate the test error of this logistic regression model using the validation set approach. Do not forget to set a random seed before beginning your analysis."
   ]
  },
  {
   "cell_type": "markdown",
   "id": "c8f46c42-93d1-44e6-898e-108ec3cd7918",
   "metadata": {},
   "source": [
    "### (a) Fit a logistic regression model that uses income and balance to predict `default`."
   ]
  },
  {
   "cell_type": "code",
   "execution_count": 2,
   "id": "c6d2a5f0-dd98-4525-8850-f20d5ba9ac11",
   "metadata": {},
   "outputs": [],
   "source": [
    "Default = pd.read_csv(\"../Data/Default.csv\")"
   ]
  },
  {
   "cell_type": "code",
   "execution_count": 3,
   "id": "d78bc6fd-0791-4089-9cef-f6cba8475a05",
   "metadata": {},
   "outputs": [
    {
     "name": "stdout",
     "output_type": "stream",
     "text": [
      "<class 'pandas.core.frame.DataFrame'>\n",
      "RangeIndex: 10000 entries, 0 to 9999\n",
      "Data columns (total 5 columns):\n",
      " #   Column      Non-Null Count  Dtype  \n",
      "---  ------      --------------  -----  \n",
      " 0   Unnamed: 0  10000 non-null  int64  \n",
      " 1   default     10000 non-null  object \n",
      " 2   student     10000 non-null  object \n",
      " 3   balance     10000 non-null  float64\n",
      " 4   income      10000 non-null  float64\n",
      "dtypes: float64(2), int64(1), object(2)\n",
      "memory usage: 390.8+ KB\n"
     ]
    }
   ],
   "source": [
    "Default.info()"
   ]
  },
  {
   "cell_type": "code",
   "execution_count": 4,
   "id": "e24c4e79-ca00-4266-a292-b431fc5a0c3a",
   "metadata": {},
   "outputs": [
    {
     "data": {
      "text/html": [
       "<div>\n",
       "<style scoped>\n",
       "    .dataframe tbody tr th:only-of-type {\n",
       "        vertical-align: middle;\n",
       "    }\n",
       "\n",
       "    .dataframe tbody tr th {\n",
       "        vertical-align: top;\n",
       "    }\n",
       "\n",
       "    .dataframe thead th {\n",
       "        text-align: right;\n",
       "    }\n",
       "</style>\n",
       "<table border=\"1\" class=\"dataframe\">\n",
       "  <thead>\n",
       "    <tr style=\"text-align: right;\">\n",
       "      <th></th>\n",
       "      <th>Unnamed: 0</th>\n",
       "      <th>default</th>\n",
       "      <th>student</th>\n",
       "      <th>balance</th>\n",
       "      <th>income</th>\n",
       "    </tr>\n",
       "  </thead>\n",
       "  <tbody>\n",
       "    <tr>\n",
       "      <th>0</th>\n",
       "      <td>0</td>\n",
       "      <td>No</td>\n",
       "      <td>No</td>\n",
       "      <td>729.526495</td>\n",
       "      <td>44361.625074</td>\n",
       "    </tr>\n",
       "    <tr>\n",
       "      <th>1</th>\n",
       "      <td>1</td>\n",
       "      <td>No</td>\n",
       "      <td>Yes</td>\n",
       "      <td>817.180407</td>\n",
       "      <td>12106.134700</td>\n",
       "    </tr>\n",
       "    <tr>\n",
       "      <th>2</th>\n",
       "      <td>2</td>\n",
       "      <td>No</td>\n",
       "      <td>No</td>\n",
       "      <td>1073.549164</td>\n",
       "      <td>31767.138947</td>\n",
       "    </tr>\n",
       "    <tr>\n",
       "      <th>3</th>\n",
       "      <td>3</td>\n",
       "      <td>No</td>\n",
       "      <td>No</td>\n",
       "      <td>529.250605</td>\n",
       "      <td>35704.493935</td>\n",
       "    </tr>\n",
       "    <tr>\n",
       "      <th>4</th>\n",
       "      <td>4</td>\n",
       "      <td>No</td>\n",
       "      <td>No</td>\n",
       "      <td>785.655883</td>\n",
       "      <td>38463.495879</td>\n",
       "    </tr>\n",
       "  </tbody>\n",
       "</table>\n",
       "</div>"
      ],
      "text/plain": [
       "   Unnamed: 0 default student      balance        income\n",
       "0           0      No      No   729.526495  44361.625074\n",
       "1           1      No     Yes   817.180407  12106.134700\n",
       "2           2      No      No  1073.549164  31767.138947\n",
       "3           3      No      No   529.250605  35704.493935\n",
       "4           4      No      No   785.655883  38463.495879"
      ]
     },
     "execution_count": 4,
     "metadata": {},
     "output_type": "execute_result"
    }
   ],
   "source": [
    "Default.head()"
   ]
  },
  {
   "cell_type": "markdown",
   "id": "ccf908e9-f797-455d-99f9-6e33418b5f9e",
   "metadata": {},
   "source": [
    "We’ll fit a logistic regression using **income** and **balance** to predict **default**.\n",
    "The response needs to be binary, so we map `\"Yes\"→1`, `\"No\"→0`."
   ]
  },
  {
   "cell_type": "code",
   "execution_count": 5,
   "id": "a4647fb3-ccd6-4cbc-8261-4008ab038e8e",
   "metadata": {},
   "outputs": [
    {
     "name": "stdout",
     "output_type": "stream",
     "text": [
      "Optimization terminated successfully.\n",
      "         Current function value: 0.078948\n",
      "         Iterations 10\n",
      "                           Logit Regression Results                           \n",
      "==============================================================================\n",
      "Dep. Variable:            default_bin   No. Observations:                10000\n",
      "Model:                          Logit   Df Residuals:                     9997\n",
      "Method:                           MLE   Df Model:                            2\n",
      "Date:                Mon, 15 Sep 2025   Pseudo R-squ.:                  0.4594\n",
      "Time:                        01:16:15   Log-Likelihood:                -789.48\n",
      "converged:                       True   LL-Null:                       -1460.3\n",
      "Covariance Type:            nonrobust   LLR p-value:                4.541e-292\n",
      "==============================================================================\n",
      "                 coef    std err          z      P>|z|      [0.025      0.975]\n",
      "------------------------------------------------------------------------------\n",
      "Intercept    -11.5405      0.435    -26.544      0.000     -12.393     -10.688\n",
      "income      2.081e-05   4.99e-06      4.174      0.000     1.1e-05    3.06e-05\n",
      "balance        0.0056      0.000     24.835      0.000       0.005       0.006\n",
      "==============================================================================\n",
      "\n",
      "Possibly complete quasi-separation: A fraction 0.14 of observations can be\n",
      "perfectly predicted. This might indicate that there is complete\n",
      "quasi-separation. In this case some parameters will not be identified.\n"
     ]
    },
    {
     "data": {
      "text/html": [
       "<div>\n",
       "<style scoped>\n",
       "    .dataframe tbody tr th:only-of-type {\n",
       "        vertical-align: middle;\n",
       "    }\n",
       "\n",
       "    .dataframe tbody tr th {\n",
       "        vertical-align: top;\n",
       "    }\n",
       "\n",
       "    .dataframe thead th {\n",
       "        text-align: right;\n",
       "    }\n",
       "</style>\n",
       "<table border=\"1\" class=\"dataframe\">\n",
       "  <thead>\n",
       "    <tr style=\"text-align: right;\">\n",
       "      <th></th>\n",
       "      <th>odds_ratio</th>\n",
       "      <th>ci_low</th>\n",
       "      <th>ci_high</th>\n",
       "    </tr>\n",
       "  </thead>\n",
       "  <tbody>\n",
       "    <tr>\n",
       "      <th>Intercept</th>\n",
       "      <td>0.000010</td>\n",
       "      <td>0.000004</td>\n",
       "      <td>0.000023</td>\n",
       "    </tr>\n",
       "    <tr>\n",
       "      <th>income</th>\n",
       "      <td>1.000021</td>\n",
       "      <td>1.000011</td>\n",
       "      <td>1.000031</td>\n",
       "    </tr>\n",
       "    <tr>\n",
       "      <th>balance</th>\n",
       "      <td>1.005663</td>\n",
       "      <td>1.005215</td>\n",
       "      <td>1.006111</td>\n",
       "    </tr>\n",
       "  </tbody>\n",
       "</table>\n",
       "</div>"
      ],
      "text/plain": [
       "           odds_ratio    ci_low   ci_high\n",
       "Intercept    0.000010  0.000004  0.000023\n",
       "income       1.000021  1.000011  1.000031\n",
       "balance      1.005663  1.005215  1.006111"
      ]
     },
     "execution_count": 5,
     "metadata": {},
     "output_type": "execute_result"
    }
   ],
   "source": [
    "import statsmodels.formula.api as smf\n",
    "\n",
    "# --- setup ---\n",
    "np.random.seed(42)\n",
    "\n",
    "# df is your Default DataFrame\n",
    "df = Default.copy()\n",
    "df = df.drop(columns=[\"Unnamed: 0\"])\n",
    "df[\"default_bin\"] = (df[\"default\"].str.lower() == \"yes\").astype(int)\n",
    "\n",
    "# --- logistic regression: default ~ income + balance ---\n",
    "logit_mod = smf.logit(\"default_bin ~ income + balance\", data=df).fit()\n",
    "print(logit_mod.summary())\n",
    "\n",
    "# Optional: coefficients as odds ratios with 95% CI\n",
    "odds = np.exp(logit_mod.params).rename(\"odds_ratio\")\n",
    "ci = np.exp(logit_mod.conf_int())\n",
    "ci.columns = [\"ci_low\", \"ci_high\"]\n",
    "or_table = pd.concat([odds, ci], axis=1)\n",
    "or_table\n"
   ]
  },
  {
   "cell_type": "markdown",
   "id": "8c28383c-ff9d-48ff-aba6-f55c96f0351f",
   "metadata": {},
   "source": [
    "### (b) Using the validation set approach, estimate the test error of this model. In order to do this, you must perform the following steps:\n",
    "\n",
    "- Split the sample set into a training set and a validation set.\n",
    "- Fit a multiple logistic regression model using only the training observations.\n",
    "- Obtain a prediction of default status for each individual in the validation set by computing the posterior probability of default for that individual, and classifying the individual to the `default` category if the posterior probability is greater than 0.5.\n",
    "- Compute the validation set error, which is the fraction of the observations in the validation set that are misclassified."
   ]
  },
  {
   "cell_type": "code",
   "execution_count": 6,
   "id": "a0207657-46cf-4351-9d08-d3adf33097a5",
   "metadata": {},
   "outputs": [
    {
     "name": "stdout",
     "output_type": "stream",
     "text": [
      "Optimization terminated successfully.\n",
      "         Current function value: 0.080810\n",
      "         Iterations 10\n",
      "                           Logit Regression Results                           \n",
      "==============================================================================\n",
      "Dep. Variable:            default_bin   No. Observations:                 5000\n",
      "Model:                          Logit   Df Residuals:                     4997\n",
      "Method:                           MLE   Df Model:                            2\n",
      "Date:                Mon, 15 Sep 2025   Pseudo R-squ.:                  0.4479\n",
      "Time:                        00:41:54   Log-Likelihood:                -404.05\n",
      "converged:                       True   LL-Null:                       -731.85\n",
      "Covariance Type:            nonrobust   LLR p-value:                4.369e-143\n",
      "==============================================================================\n",
      "                 coef    std err          z      P>|z|      [0.025      0.975]\n",
      "------------------------------------------------------------------------------\n",
      "Intercept    -11.5096      0.613    -18.767      0.000     -12.712     -10.308\n",
      "income      2.278e-05   7.04e-06      3.235      0.001    8.98e-06    3.66e-05\n",
      "balance        0.0056      0.000     17.655      0.000       0.005       0.006\n",
      "==============================================================================\n",
      "\n",
      "Possibly complete quasi-separation: A fraction 0.14 of observations can be\n",
      "perfectly predicted. This might indicate that there is complete\n",
      "quasi-separation. In this case some parameters will not be identified.\n",
      "Validation set error (misclassification rate): 0.0254\n"
     ]
    },
    {
     "data": {
      "text/html": [
       "<div>\n",
       "<style scoped>\n",
       "    .dataframe tbody tr th:only-of-type {\n",
       "        vertical-align: middle;\n",
       "    }\n",
       "\n",
       "    .dataframe tbody tr th {\n",
       "        vertical-align: top;\n",
       "    }\n",
       "\n",
       "    .dataframe thead th {\n",
       "        text-align: right;\n",
       "    }\n",
       "</style>\n",
       "<table border=\"1\" class=\"dataframe\">\n",
       "  <thead>\n",
       "    <tr style=\"text-align: right;\">\n",
       "      <th></th>\n",
       "      <th>Pred 0</th>\n",
       "      <th>Pred 1</th>\n",
       "    </tr>\n",
       "  </thead>\n",
       "  <tbody>\n",
       "    <tr>\n",
       "      <th>True 0</th>\n",
       "      <td>4815</td>\n",
       "      <td>19</td>\n",
       "    </tr>\n",
       "    <tr>\n",
       "      <th>True 1</th>\n",
       "      <td>108</td>\n",
       "      <td>58</td>\n",
       "    </tr>\n",
       "  </tbody>\n",
       "</table>\n",
       "</div>"
      ],
      "text/plain": [
       "        Pred 0  Pred 1\n",
       "True 0    4815      19\n",
       "True 1     108      58"
      ]
     },
     "execution_count": 6,
     "metadata": {},
     "output_type": "execute_result"
    }
   ],
   "source": [
    "from sklearn.metrics import confusion_matrix\n",
    "from sklearn.model_selection import train_test_split\n",
    "\n",
    "# (i) split into training/validation (50/50), stratified to preserve class balance\n",
    "train_idx, val_idx = train_test_split(\n",
    "    df.index, test_size=0.50, random_state=1, stratify=df[\"default_bin\"]\n",
    ")\n",
    "train = df.loc[train_idx].copy()\n",
    "valid = df.loc[val_idx].copy()\n",
    "\n",
    "# (ii) fit logistic regression on training data\n",
    "logit_fit = smf.logit(\"default_bin ~ income + balance\", data=train).fit()\n",
    "print(logit_fit.summary())\n",
    "\n",
    "# (iii) predict posterior probabilities on validation set and classify (p>0.5 -> default)\n",
    "p_valid = logit_fit.predict(valid)              # P(default=1 | X)\n",
    "yhat_valid = (p_valid > 0.5).astype(int)\n",
    "\n",
    "# (iv) compute validation-set error (fraction misclassified)\n",
    "val_error = (yhat_valid != valid[\"default_bin\"]).mean()\n",
    "print(f\"Validation set error (misclassification rate): {val_error:.4f}\")\n",
    "\n",
    "# Optional: confusion matrix for additional insight\n",
    "cm = confusion_matrix(valid[\"default_bin\"], yhat_valid, labels=[0,1])\n",
    "cm_df = pd.DataFrame(cm, index=[\"True 0\",\"True 1\"], columns=[\"Pred 0\",\"Pred 1\"])\n",
    "cm_df\n"
   ]
  },
  {
   "cell_type": "markdown",
   "id": "0efba831-ead3-49d3-a00a-7d8b9634c4d8",
   "metadata": {},
   "source": [
    "### (c) Repeat the process in (b) three times, using three different splits of the observations into a training set and a validation set. Comment on the results obtained."
   ]
  },
  {
   "cell_type": "code",
   "execution_count": 7,
   "id": "a30dcf25-7617-43ec-b882-6ce102165e79",
   "metadata": {},
   "outputs": [
    {
     "data": {
      "text/html": [
       "<div>\n",
       "<style scoped>\n",
       "    .dataframe tbody tr th:only-of-type {\n",
       "        vertical-align: middle;\n",
       "    }\n",
       "\n",
       "    .dataframe tbody tr th {\n",
       "        vertical-align: top;\n",
       "    }\n",
       "\n",
       "    .dataframe thead th {\n",
       "        text-align: right;\n",
       "    }\n",
       "</style>\n",
       "<table border=\"1\" class=\"dataframe\">\n",
       "  <thead>\n",
       "    <tr style=\"text-align: right;\">\n",
       "      <th></th>\n",
       "      <th>seed</th>\n",
       "      <th>val_error</th>\n",
       "      <th>TN</th>\n",
       "      <th>FP</th>\n",
       "      <th>FN</th>\n",
       "      <th>TP</th>\n",
       "    </tr>\n",
       "  </thead>\n",
       "  <tbody>\n",
       "    <tr>\n",
       "      <th>0</th>\n",
       "      <td>63</td>\n",
       "      <td>0.0264</td>\n",
       "      <td>4820</td>\n",
       "      <td>14</td>\n",
       "      <td>118</td>\n",
       "      <td>48</td>\n",
       "    </tr>\n",
       "    <tr>\n",
       "      <th>1</th>\n",
       "      <td>72</td>\n",
       "      <td>0.0252</td>\n",
       "      <td>4817</td>\n",
       "      <td>17</td>\n",
       "      <td>109</td>\n",
       "      <td>57</td>\n",
       "    </tr>\n",
       "    <tr>\n",
       "      <th>2</th>\n",
       "      <td>12</td>\n",
       "      <td>0.0272</td>\n",
       "      <td>4812</td>\n",
       "      <td>22</td>\n",
       "      <td>114</td>\n",
       "      <td>52</td>\n",
       "    </tr>\n",
       "  </tbody>\n",
       "</table>\n",
       "</div>"
      ],
      "text/plain": [
       "   seed  val_error    TN  FP   FN  TP\n",
       "0    63     0.0264  4820  14  118  48\n",
       "1    72     0.0252  4817  17  109  57\n",
       "2    12     0.0272  4812  22  114  52"
      ]
     },
     "execution_count": 7,
     "metadata": {},
     "output_type": "execute_result"
    }
   ],
   "source": [
    "def val_error_for_seed(seed: int):\n",
    "    \"\"\"Fit logit on a 50% training split and return metrics on the validation split.\"\"\"\n",
    "    train_idx, val_idx = train_test_split(\n",
    "        df.index, test_size=0.50, random_state=seed, stratify=df[\"default_bin\"]\n",
    "    )\n",
    "    train, valid = df.loc[train_idx], df.loc[val_idx]\n",
    "\n",
    "    fit = smf.logit(\"default_bin ~ income + balance\", data=train).fit(disp=False)\n",
    "    p = fit.predict(valid)\n",
    "    yhat = (p > 0.5).astype(int)\n",
    "    err = (yhat != valid[\"default_bin\"]).mean()\n",
    "\n",
    "    cm = confusion_matrix(valid[\"default_bin\"], yhat, labels=[0,1])\n",
    "    tn, fp, fn, tp = cm.ravel()\n",
    "    return {\n",
    "        \"seed\": seed,\n",
    "        \"val_error\": err,\n",
    "        \"TN\": tn, \"FP\": fp, \"FN\": fn, \"TP\": tp,\n",
    "        \"fit\": fit  # keep if you want to inspect coefficients\n",
    "    }\n",
    "\n",
    "seeds = [63, 72, 12]\n",
    "results = pd.DataFrame([val_error_for_seed(s) for s in seeds])[[\"seed\",\"val_error\",\"TN\",\"FP\",\"FN\",\"TP\"]]\n",
    "results\n"
   ]
  },
  {
   "cell_type": "code",
   "execution_count": 8,
   "id": "746b4dce-b25b-4f02-a124-8d444b6115be",
   "metadata": {},
   "outputs": [
    {
     "name": "stdout",
     "output_type": "stream",
     "text": [
      "Baseline (always predict 'No'): 0.0333\n",
      "Validation error mean over seeds: 0.0263  (sd = 0.0010)\n"
     ]
    }
   ],
   "source": [
    "# Simple summary across splits\n",
    "mean_err = results[\"val_error\"].mean()\n",
    "std_err  = results[\"val_error\"].std(ddof=1)\n",
    "\n",
    "baseline_error = 1 - (df[\"default_bin\"]==0).mean()  # error if always predict \"No default\"\n",
    "\n",
    "print(f\"Baseline (always predict 'No'): {baseline_error:.4f}\")\n",
    "print(f\"Validation error mean over seeds: {mean_err:.4f}  (sd = {std_err:.4f})\")"
   ]
  },
  {
   "cell_type": "markdown",
   "id": "0f4a56d0-3353-48ea-bc8a-e1c6acefbb2c",
   "metadata": {},
   "source": [
    "#### Comments\n",
    "\n",
    "- The baseline error (predicting “No” for everyone) is approximately the prevalence of defaults (about 3–4% in Default). Our logistic model beat this baseline (typically around 2–3% misclassification with a 0.5 threshold).\n",
    "\n",
    "- Across different splits, the error will vary slightly (usually a few tenths of a percent), which reflects sampling variability from using a single validation split.\n",
    "\n",
    "- The confusion matrix shows more false negatives (FN) than false positives (FP) because the positive class (default) is rare; with a 0.5 threshold, the classifier is *conservative*.\n",
    "\n",
    "- Performance is stable across splits, but a resampling scheme with more averaging (e.g., K-fold CV or repeated CV) provides a more reliable estimate than a single split."
   ]
  },
  {
   "cell_type": "markdown",
   "id": "9045564d-41aa-4bc2-b206-94d42bd121ae",
   "metadata": {},
   "source": [
    "### (d) Now consider a logistic regression model that predicts the probability of `default` using `income`, `balance`, and a dummy variable for `student`. Estimate the test error for this model using the validation set approach. Comment on whether or not including a dummy variable for `student` leads to a reduction in the test error rate."
   ]
  },
  {
   "cell_type": "code",
   "execution_count": 9,
   "id": "5cbd7313-bded-4d4e-ac2d-ac1845469535",
   "metadata": {},
   "outputs": [
    {
     "name": "stdout",
     "output_type": "stream",
     "text": [
      "Validation error (base: income + balance): 0.0254\n",
      "Validation error (+ student dummy)        : 0.0260\n",
      "Δ error (extended − base)                 : +0.0006\n"
     ]
    },
    {
     "data": {
      "text/html": [
       "<div>\n",
       "<style scoped>\n",
       "    .dataframe tbody tr th:only-of-type {\n",
       "        vertical-align: middle;\n",
       "    }\n",
       "\n",
       "    .dataframe tbody tr th {\n",
       "        vertical-align: top;\n",
       "    }\n",
       "\n",
       "    .dataframe thead th {\n",
       "        text-align: right;\n",
       "    }\n",
       "</style>\n",
       "<table border=\"1\" class=\"dataframe\">\n",
       "  <thead>\n",
       "    <tr style=\"text-align: right;\">\n",
       "      <th></th>\n",
       "      <th>Pred 0</th>\n",
       "      <th>Pred 1</th>\n",
       "    </tr>\n",
       "  </thead>\n",
       "  <tbody>\n",
       "    <tr>\n",
       "      <th>True 0</th>\n",
       "      <td>4812</td>\n",
       "      <td>22</td>\n",
       "    </tr>\n",
       "    <tr>\n",
       "      <th>True 1</th>\n",
       "      <td>108</td>\n",
       "      <td>58</td>\n",
       "    </tr>\n",
       "  </tbody>\n",
       "</table>\n",
       "</div>"
      ],
      "text/plain": [
       "        Pred 0  Pred 1\n",
       "True 0    4812      22\n",
       "True 1     108      58"
      ]
     },
     "execution_count": 9,
     "metadata": {},
     "output_type": "execute_result"
    }
   ],
   "source": [
    "# --- single 50/50 split, stratified by the rare class for comparability ---\n",
    "train_idx, val_idx = train_test_split(\n",
    "    df.index, test_size=0.50, random_state=1, stratify=df[\"default_bin\"]\n",
    ")\n",
    "train, valid = df.loc[train_idx], df.loc[val_idx]\n",
    "\n",
    "# --- fit base vs. extended models on the *same* training set ---\n",
    "fit_base = smf.logit(\"default_bin ~ income + balance\", data=train).fit(disp=False)\n",
    "fit_ext  = smf.logit(\"default_bin ~ income + balance + C(student)\", data=train).fit(disp=False)\n",
    "\n",
    "# --- predict probabilities on validation set and classify with 0.5 threshold ---\n",
    "p_base = fit_base.predict(valid)\n",
    "p_ext  = fit_ext.predict(valid)\n",
    "yhat_base = (p_base > 0.5).astype(int)\n",
    "yhat_ext  = (p_ext  > 0.5).astype(int)\n",
    "\n",
    "# --- misclassification rates (validation-set error) ---\n",
    "err_base = (yhat_base != valid[\"default_bin\"]).mean()\n",
    "err_ext  = (yhat_ext  != valid[\"default_bin\"]).mean()\n",
    "print(f\"Validation error (base: income + balance): {err_base:.4f}\")\n",
    "print(f\"Validation error (+ student dummy)        : {err_ext:.4f}\")\n",
    "print(f\"Δ error (extended − base)                 : {err_ext - err_base:+.4f}\")\n",
    "\n",
    "# Optional: confusion matrices to see the trade-offs\n",
    "cm_base = confusion_matrix(valid[\"default_bin\"], yhat_base, labels=[0,1])\n",
    "cm_ext  = confusion_matrix(valid[\"default_bin\"], yhat_ext,  labels=[0,1])\n",
    "pd.DataFrame(cm_base, index=[\"True 0\",\"True 1\"], columns=[\"Pred 0\",\"Pred 1\"])\n",
    "pd.DataFrame(cm_ext,  index=[\"True 0\",\"True 1\"], columns=[\"Pred 0\",\"Pred 1\"])\n"
   ]
  },
  {
   "cell_type": "code",
   "execution_count": 10,
   "id": "4e811c9a-e183-42c0-9939-2e360f9ed8f3",
   "metadata": {},
   "outputs": [
    {
     "data": {
      "text/plain": [
       "(   seed  err_base  err_plus_student   delta\n",
       " 0    63    0.0264            0.0268  0.0004\n",
       " 1    72    0.0252            0.0262  0.0010\n",
       " 2    12    0.0272            0.0272  0.0000,\n",
       "       err_base  err_plus_student     delta\n",
       " mean  0.026267          0.026733  0.000467)"
      ]
     },
     "execution_count": 10,
     "metadata": {},
     "output_type": "execute_result"
    }
   ],
   "source": [
    "def compare_err(seed: int):\n",
    "    tr, va = train_test_split(df.index, test_size=0.50, random_state=seed,\n",
    "                              stratify=df[\"default_bin\"])\n",
    "    tr, va = df.loc[tr], df.loc[va]\n",
    "    m0 = smf.logit(\"default_bin ~ income + balance\", data=tr).fit(disp=False)\n",
    "    m1 = smf.logit(\"default_bin ~ income + balance + C(student)\", data=tr).fit(disp=False)\n",
    "    e0 = ((m0.predict(va) > 0.5).astype(int) != va[\"default_bin\"]).mean()\n",
    "    e1 = ((m1.predict(va) > 0.5).astype(int) != va[\"default_bin\"]).mean()\n",
    "    return {\"seed\": seed, \"err_base\": e0, \"err_plus_student\": e1, \"delta\": e1 - e0}\n",
    "\n",
    "res = pd.DataFrame([compare_err(s) for s in seeds])\n",
    "res, res[[\"err_base\",\"err_plus_student\",\"delta\"]].mean().to_frame(\"mean\").T\n"
   ]
  },
  {
   "cell_type": "markdown",
   "id": "91ba0bad-20f5-42eb-83c1-defd6f43b94e",
   "metadata": {},
   "source": [
    "#### Comments\n",
    "\n",
    "- **No gain from `student`:** Across splits, the mean Δ error is **+0.00047** (extended − base), i.e., adding the `student` dummy slightly **worsens** validation error. The model with only `income + balance` is preferable.\n",
    "\n",
    "- **Imbalanced data behavior:** From the confusion matrix (TN=4812, FP=22, FN=108, TP=58), specificity is very high (**99.5%**) while sensitivity is modest (**~35%**) under the 0.5 threshold—typical with rare positives.\n",
    "\n",
    "- **Still better than baseline:** Default prevalence ≈ **3.32%** (166/5000). Both models’ errors (~**2.5–2.7%**) beat the “always predict No” baseline. The small Δ suggests `student` adds little incremental signal once **balance** and **income** are included (likely redundancy/correlation).\n"
   ]
  }
 ],
 "metadata": {
  "kernelspec": {
   "display_name": "Python 3 (ipykernel)",
   "language": "python",
   "name": "python3"
  },
  "language_info": {
   "codemirror_mode": {
    "name": "ipython",
    "version": 3
   },
   "file_extension": ".py",
   "mimetype": "text/x-python",
   "name": "python",
   "nbconvert_exporter": "python",
   "pygments_lexer": "ipython3",
   "version": "3.12.9"
  }
 },
 "nbformat": 4,
 "nbformat_minor": 5
}
